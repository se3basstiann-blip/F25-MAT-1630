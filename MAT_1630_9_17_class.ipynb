{
  "nbformat": 4,
  "nbformat_minor": 0,
  "metadata": {
    "colab": {
      "provenance": [],
      "include_colab_link": true
    },
    "kernelspec": {
      "name": "python3",
      "display_name": "Python 3"
    },
    "language_info": {
      "name": "python"
    }
  },
  "cells": [
    {
      "cell_type": "markdown",
      "metadata": {
        "id": "view-in-github",
        "colab_type": "text"
      },
      "source": [
        "<a href=\"https://colab.research.google.com/github/se3basstiann-blip/F25-MAT-1630/blob/main/MAT_1630_9_17_class.ipynb\" target=\"_parent\"><img src=\"https://colab.research.google.com/assets/colab-badge.svg\" alt=\"Open In Colab\"/></a>"
      ]
    },
    {
      "cell_type": "markdown",
      "source": [
        "# Common loops\n"
      ],
      "metadata": {
        "id": "02zMO_EY99BF"
      }
    },
    {
      "cell_type": "markdown",
      "source": [
        "## Sum and Average Values\n"
      ],
      "metadata": {
        "id": "8hMHZS8897aw"
      }
    },
    {
      "cell_type": "code",
      "source": [
        "total = 0.0\n",
        "inputStr = input(\"Enter value: \")\n",
        "while inputStr != \"\" :\n",
        "   value = float(inputStr)\n",
        "   total = total + value\n",
        "   inputStr = input(\"Enter value: \")"
      ],
      "metadata": {
        "colab": {
          "base_uri": "https://localhost:8080/"
        },
        "id": "k8xgO61z-HL2",
        "outputId": "c38a5dca-8cec-40c2-af28-c03ff95952b1"
      },
      "execution_count": null,
      "outputs": [
        {
          "name": "stdout",
          "output_type": "stream",
          "text": [
            "Enter value: 30\n",
            "Enter value: 34\n",
            "Enter value: 3\n",
            "Enter value: \n"
          ]
        }
      ]
    },
    {
      "cell_type": "markdown",
      "source": [
        "Modify to stop adding values\n"
      ],
      "metadata": {
        "id": "QtbDNJdD-q0q"
      }
    },
    {
      "cell_type": "markdown",
      "source": [
        "**Exercise:** Fix and improve this code:\n"
      ],
      "metadata": {
        "id": "O0XG8c_E_h0R"
      }
    },
    {
      "cell_type": "code",
      "source": [
        "total = 0.0\n",
        "count = 0\n",
        "inputStr = input(\"Enter value: \")\n",
        "while inputStr != \"\" :\n",
        "value = float(inputStr)\n",
        "total = total + value\n",
        "count = count + 1\n",
        "inputStr = input(\"Enter value: \")\n",
        "if count > 0 :\n",
        "average = total / count\n",
        "else :\n",
        "average = 0.0\n"
      ],
      "metadata": {
        "colab": {
          "base_uri": "https://localhost:8080/",
          "height": 106
        },
        "id": "vg2VJVef_rKp",
        "outputId": "4b9ca7af-d5ca-4820-ed33-fbd1aff1ffe3"
      },
      "execution_count": null,
      "outputs": [
        {
          "output_type": "error",
          "ename": "IndentationError",
          "evalue": "expected an indented block after 'while' statement on line 4 (ipython-input-502247946.py, line 5)",
          "traceback": [
            "\u001b[0;36m  File \u001b[0;32m\"/tmp/ipython-input-502247946.py\"\u001b[0;36m, line \u001b[0;32m5\u001b[0m\n\u001b[0;31m    value = float(inputStr)\u001b[0m\n\u001b[0m    ^\u001b[0m\n\u001b[0;31mIndentationError\u001b[0m\u001b[0;31m:\u001b[0m expected an indented block after 'while' statement on line 4\n"
          ]
        }
      ]
    },
    {
      "cell_type": "code",
      "source": [
        "\n",
        "total = 0.0\n",
        "count = 0\n",
        "\n",
        "inputStr = input(\"Enter a number (or press Enter to stop): \")\n",
        "\n",
        "while inputStr != \"\":\n",
        "    try:\n",
        "        value = float(inputStr)\n",
        "        total += value\n",
        "        count += 1\n",
        "    except ValueError:\n",
        "        print(\"Invalid input. Please enter a valid number.\")\n",
        "\n",
        "    inputStr = input(\"Enter a number (or press Enter to stop): \")\n",
        "\n",
        "if count > 0:\n",
        "    print(f\"\\nYou entered {count} numbers.\")\n",
        "    print(f\"Total = {total}\")\n",
        "    print(f\"Average = {total / count}\")\n",
        "else:\n",
        "    print(\"\\nNo numbers were entered.\")"
      ],
      "metadata": {
        "id": "GIrk3nFDsy39",
        "outputId": "ec49a211-aa3e-4d39-a3ff-fb313838f845",
        "colab": {
          "base_uri": "https://localhost:8080/"
        }
      },
      "execution_count": null,
      "outputs": [
        {
          "name": "stdout",
          "output_type": "stream",
          "text": [
            "Enter a number (or press Enter to stop): 3\n"
          ]
        }
      ]
    },
    {
      "cell_type": "markdown",
      "source": [
        "# Functions (Review)"
      ],
      "metadata": {
        "id": "LFz9QMvz_y7X"
      }
    },
    {
      "cell_type": "code",
      "source": [
        "##\n",
        "# This program computes the volumes of two cubes.\n",
        "#\n",
        "\n",
        "def main() :\n",
        "    result1 = cubeVolume(2)\n",
        "    result2 = cubeVolume(10)\n",
        "    print(\"A cube with side length 2 has volume\", result1)\n",
        "    print(\"A cube with side length 10 has volume\", result2)\n",
        "\n",
        "## Computes the volume of a cube.\n",
        "# @param sideLength the length of a side of the cube\n",
        "# @return the volume of the cube\n",
        "#\n",
        "def cubeVolume(sideLength) :\n",
        "    volume = sideLength ** 3\n",
        "    return volume\n",
        "\n",
        "# Start the program.\n",
        "main()"
      ],
      "metadata": {
        "colab": {
          "base_uri": "https://localhost:8080/"
        },
        "id": "RKVrKY9bA5Py",
        "outputId": "4464f35f-bb9c-4d10-809e-cc3346369f34"
      },
      "execution_count": null,
      "outputs": [
        {
          "output_type": "stream",
          "name": "stdout",
          "text": [
            "A cube with side length 2 has volume 8\n",
            "A cube with side length 10 has volume 1000\n"
          ]
        }
      ]
    },
    {
      "cell_type": "markdown",
      "source": [
        "**Exercise** Write the following functions and provide a program to test them.\n",
        " * def smallest(x, y, z) (returning the smallest of the arguments)\n",
        "\n",
        "\n",
        "* def average(x, y, z) (returning the average of the arguments)"
      ],
      "metadata": {
        "id": "cN4KUzcqDSCT"
      }
    },
    {
      "cell_type": "code",
      "source": [
        "\n",
        "\n",
        "def smallest(x, y, z):\n",
        "    return min(x, y, z)\n",
        "\n",
        "def average(x, y, z):\n",
        "    return (x + y + z) / 3\n",
        "\n",
        "a = float(input(\"Enter first number: \"))\n",
        "b = float(input(\"Enter second number: \"))\n",
        "c = float(input(\"Enter third number: \"))\n",
        "\n",
        "print(f\"\\nThe smallest number is: {smallest(a, b, c)}\")\n",
        "print(f\"The average is: {average(a, b, c)}\")"
      ],
      "metadata": {
        "id": "Z_x9AoDStcoW"
      },
      "execution_count": null,
      "outputs": []
    },
    {
      "cell_type": "markdown",
      "source": [
        "# What's a list?"
      ],
      "metadata": {
        "id": "qLJgJ7ZiETgZ"
      }
    },
    {
      "cell_type": "markdown",
      "source": [
        "A list is an ordered, mutable collection of items. Items can be any type (numbers, strings, even other lists)."
      ],
      "metadata": {
        "id": "UeGmCPWcEobA"
      }
    },
    {
      "cell_type": "code",
      "source": [
        "nums = [10, 20, 30]\n",
        "words = [\"apple\", \"banana\", \"cherry\"]\n",
        "mixed = [42, \"hello\", 3.14, True]\n",
        "empty = []\n"
      ],
      "metadata": {
        "id": "900LkjhuEp0k"
      },
      "execution_count": null,
      "outputs": []
    },
    {
      "cell_type": "markdown",
      "source": [
        "Indexing & slicing\n",
        "\n",
        "Indexing starts at 0.\n",
        "\n",
        "Negative indexes count from the end."
      ],
      "metadata": {
        "id": "vNJHlGo3ExzO"
      }
    },
    {
      "cell_type": "code",
      "source": [
        "fruits = [\"apple\", \"banana\", \"cherry\", \"date\"]\n",
        "fruits[0]      # \"apple\"\n",
        "fruits[-1]     # \"date\"\n",
        "fruits[1:3]    # [\"banana\", \"cherry\"]\n",
        "fruits[:2]     # [\"apple\", \"banana\"]\n",
        "fruits[::2]    # every 2nd item -> [\"apple\", \"cherry\"]\n"
      ],
      "metadata": {
        "colab": {
          "base_uri": "https://localhost:8080/"
        },
        "id": "zZKYwyTWE35n",
        "outputId": "2eaaa4ef-92cc-4dbf-ae83-dda49b7f44f5"
      },
      "execution_count": null,
      "outputs": [
        {
          "output_type": "execute_result",
          "data": {
            "text/plain": [
              "['apple', 'cherry']"
            ]
          },
          "metadata": {},
          "execution_count": 6
        }
      ]
    },
    {
      "cell_type": "markdown",
      "source": [
        "Lists are mutable (you can change them)"
      ],
      "metadata": {
        "id": "NQ7V4MpYE8nj"
      }
    },
    {
      "cell_type": "code",
      "source": [
        "nums = [1, 2, 3]\n",
        "nums[1] = 200           # [1, 200, 3]\n",
        "nums.append(4)          # [1, 200, 3, 4]\n",
        "nums.extend([5, 6])     # [1, 200, 3, 4, 5, 6]\n",
        "nums.insert(2, 999)     # [1, 200, 999, 3, 4, 5, 6]\n",
        "del nums[3]             # remove by index -> [1, 200, 999, 4, 5, 6]\n",
        "val = nums.pop()        # pops last (returns it) -> val=6\n",
        "nums.remove(999)        # remove by value (first match)\n"
      ],
      "metadata": {
        "id": "xfmb-knQFElk"
      },
      "execution_count": null,
      "outputs": []
    },
    {
      "cell_type": "markdown",
      "source": [
        "## Useful operations & functions"
      ],
      "metadata": {
        "id": "N9ffNO1MFK6b"
      }
    },
    {
      "cell_type": "code",
      "source": [
        "x = [3, 1, 2, 3, 2, 3]\n",
        "\n",
        "len(x)          # 6\n",
        "x.count(3)      # 3 (how many 3s)\n",
        "x.index(2)      # 2 (first index of 2)\n",
        "\n",
        "sorted(x)       # returns NEW sorted list -> [1, 2, 2, 3, 3, 3]\n",
        "x.sort()        # sorts IN PLACE\n",
        "x.reverse()     # reverse IN PLACE\n",
        "\n",
        "3 in x          # membership test (True/False)\n",
        "sum([1,2,3])    # 6 (numbers only)\n",
        "min(x), max(x)  # smallest, largest\n"
      ],
      "metadata": {
        "colab": {
          "base_uri": "https://localhost:8080/"
        },
        "id": "u51MkOewFSm5",
        "outputId": "eb77b760-aaa5-4e5c-e9ed-ea690b187177"
      },
      "execution_count": null,
      "outputs": [
        {
          "output_type": "execute_result",
          "data": {
            "text/plain": [
              "(1, 3)"
            ]
          },
          "metadata": {},
          "execution_count": 8
        }
      ]
    },
    {
      "cell_type": "markdown",
      "source": [
        "## Looping\n"
      ],
      "metadata": {
        "id": "to05yZEbFZvQ"
      }
    },
    {
      "cell_type": "code",
      "source": [
        "pets = [\"cat\", \"dog\", \"parrot\"]\n",
        "\n",
        "for p in pets:\n",
        "    print(p)\n",
        "\n",
        "for i, p in enumerate(pets):\n",
        "    print(i, p)   # index + value\n"
      ],
      "metadata": {
        "colab": {
          "base_uri": "https://localhost:8080/"
        },
        "id": "Ftuul0LUFiEb",
        "outputId": "c06a0954-775d-4ec6-fee2-412115ed5573"
      },
      "execution_count": null,
      "outputs": [
        {
          "output_type": "stream",
          "name": "stdout",
          "text": [
            "cat\n",
            "dog\n",
            "parrot\n",
            "0 cat\n",
            "1 dog\n",
            "2 parrot\n"
          ]
        }
      ]
    }
  ]
}