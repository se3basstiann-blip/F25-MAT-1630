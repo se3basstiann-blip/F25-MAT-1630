{
  "nbformat": 4,
  "nbformat_minor": 0,
  "metadata": {
    "colab": {
      "provenance": [],
      "authorship_tag": "ABX9TyNk3UKhhzKkD5OccI+MvSq/",
      "include_colab_link": true
    },
    "kernelspec": {
      "name": "python3",
      "display_name": "Python 3"
    },
    "language_info": {
      "name": "python"
    }
  },
  "cells": [
    {
      "cell_type": "markdown",
      "metadata": {
        "id": "view-in-github",
        "colab_type": "text"
      },
      "source": [
        "<a href=\"https://colab.research.google.com/github/se3basstiann-blip/F25-MAT-1630/blob/main/List_analysis.ipynb\" target=\"_parent\"><img src=\"https://colab.research.google.com/assets/colab-badge.svg\" alt=\"Open In Colab\"/></a>"
      ]
    },
    {
      "cell_type": "code",
      "execution_count": 6,
      "metadata": {
        "colab": {
          "base_uri": "https://localhost:8080/"
        },
        "id": "ksDpHoWXS6Iq",
        "outputId": "5e9798d9-7730-4f3f-8182-395c56237fc8"
      },
      "outputs": [
        {
          "output_type": "stream",
          "name": "stdout",
          "text": [
            "3 is odd\n",
            "7 is odd\n",
            "2 is even\n",
            "9 is odd\n",
            "12 is even\n",
            "5 is odd\n",
            "10 is even\n",
            "1 is odd\n",
            "There are 3 even numbers\n",
            "There are 5 odd numbers\n",
            "even numbers [2, 12, 10]\n"
          ]
        }
      ],
      "source": [
        "data = [3, 7, 2, 9, 12, 5, 10, 1]\n",
        "\n",
        "even = 0\n",
        "odd = 0\n",
        "for number in data:\n",
        "\n",
        "  if number % 2 == 0:\n",
        "    print(number, \"is even\")\n",
        "    even = even + 1\n",
        "  else:\n",
        "    print(number, \"is odd\")\n",
        "    odd = odd + 1\n",
        "\n",
        "print(\"There are\", even, \"even numbers\")\n",
        "print(\"There are\", odd, \"odd numbers\")\n",
        "\n",
        "even = []\n",
        "for num in data:\n",
        "  if num % 2 == 0:\n",
        "    even.append(num)\n",
        "print(\"even numbers\", even)\n"
      ]
    }
  ]
}